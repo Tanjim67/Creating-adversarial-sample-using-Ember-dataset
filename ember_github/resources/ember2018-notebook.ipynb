{
 "cells": [
  {
   "cell_type": "code",
   "execution_count": 1,
   "metadata": {},
   "outputs": [],
   "source": [
    "import os\n",
    "import ember_github.ember as ember\n",
    "import numpy as np\n",
    "import pandas as pd\n",
    "import altair as alt\n",
    "import lightgbm as lgb\n",
    "import matplotlib.pylab as plt\n",
    "from sklearn.metrics import roc_auc_score, roc_curve\n",
    "_ = alt.renderers.enable('notebook')"
   ]
  },
  {
   "cell_type": "code",
   "execution_count": 10,
   "metadata": {},
   "outputs": [],
   "source": [
    "data_dir = \"../../ember2018\" # change this to where you unzipped the download"
   ]
  },
  {
   "cell_type": "code",
   "execution_count": 11,
   "metadata": {},
   "outputs": [
    {
     "name": "stdout",
     "output_type": "stream",
     "text": [
      "Vectorizing training set\n"
     ]
    },
    {
     "ename": "KeyboardInterrupt",
     "evalue": "",
     "output_type": "error",
     "traceback": [
      "\u001B[0;31m---------------------------------------------------------------------------\u001B[0m",
      "\u001B[0;31mKeyboardInterrupt\u001B[0m                         Traceback (most recent call last)",
      "\u001B[0;32m<ipython-input-11-ced5d9d264cd>\u001B[0m in \u001B[0;36m<module>\u001B[0;34m\u001B[0m\n\u001B[0;32m----> 1\u001B[0;31m \u001B[0member\u001B[0m\u001B[0;34m.\u001B[0m\u001B[0mcreate_vectorized_features\u001B[0m\u001B[0;34m(\u001B[0m\u001B[0mdata_dir\u001B[0m\u001B[0;34m)\u001B[0m\u001B[0;34m\u001B[0m\u001B[0;34m\u001B[0m\u001B[0m\n\u001B[0m\u001B[1;32m      2\u001B[0m \u001B[0m_\u001B[0m \u001B[0;34m=\u001B[0m \u001B[0member\u001B[0m\u001B[0;34m.\u001B[0m\u001B[0mcreate_metadata\u001B[0m\u001B[0;34m(\u001B[0m\u001B[0mdata_dir\u001B[0m\u001B[0;34m)\u001B[0m\u001B[0;34m\u001B[0m\u001B[0;34m\u001B[0m\u001B[0m\n\u001B[1;32m      3\u001B[0m \u001B[0;34m\u001B[0m\u001B[0m\n",
      "\u001B[0;32m~/Documents/Uni/Semester11-WS2021/mlcysec/Projects/final/src/final_project_git/ember_github/ember/__init__.py\u001B[0m in \u001B[0;36mcreate_vectorized_features\u001B[0;34m(data_dir, feature_version)\u001B[0m\n\u001B[1;32m     72\u001B[0m     \u001B[0my_path\u001B[0m \u001B[0;34m=\u001B[0m \u001B[0mos\u001B[0m\u001B[0;34m.\u001B[0m\u001B[0mpath\u001B[0m\u001B[0;34m.\u001B[0m\u001B[0mjoin\u001B[0m\u001B[0;34m(\u001B[0m\u001B[0mdata_dir\u001B[0m\u001B[0;34m,\u001B[0m \u001B[0;34m\"y_train.dat\"\u001B[0m\u001B[0;34m)\u001B[0m\u001B[0;34m\u001B[0m\u001B[0;34m\u001B[0m\u001B[0m\n\u001B[1;32m     73\u001B[0m     \u001B[0mraw_feature_paths\u001B[0m \u001B[0;34m=\u001B[0m \u001B[0;34m[\u001B[0m\u001B[0mos\u001B[0m\u001B[0;34m.\u001B[0m\u001B[0mpath\u001B[0m\u001B[0;34m.\u001B[0m\u001B[0mjoin\u001B[0m\u001B[0;34m(\u001B[0m\u001B[0mdata_dir\u001B[0m\u001B[0;34m,\u001B[0m \u001B[0;34m\"train_features_{}.jsonl\"\u001B[0m\u001B[0;34m.\u001B[0m\u001B[0mformat\u001B[0m\u001B[0;34m(\u001B[0m\u001B[0mi\u001B[0m\u001B[0;34m)\u001B[0m\u001B[0;34m)\u001B[0m \u001B[0;32mfor\u001B[0m \u001B[0mi\u001B[0m \u001B[0;32min\u001B[0m \u001B[0mrange\u001B[0m\u001B[0;34m(\u001B[0m\u001B[0;36m6\u001B[0m\u001B[0;34m)\u001B[0m\u001B[0;34m]\u001B[0m\u001B[0;34m\u001B[0m\u001B[0;34m\u001B[0m\u001B[0m\n\u001B[0;32m---> 74\u001B[0;31m     \u001B[0mnrows\u001B[0m \u001B[0;34m=\u001B[0m \u001B[0msum\u001B[0m\u001B[0;34m(\u001B[0m\u001B[0;34m[\u001B[0m\u001B[0;36m1\u001B[0m \u001B[0;32mfor\u001B[0m \u001B[0mfp\u001B[0m \u001B[0;32min\u001B[0m \u001B[0mraw_feature_paths\u001B[0m \u001B[0;32mfor\u001B[0m \u001B[0mline\u001B[0m \u001B[0;32min\u001B[0m \u001B[0mopen\u001B[0m\u001B[0;34m(\u001B[0m\u001B[0mfp\u001B[0m\u001B[0;34m)\u001B[0m\u001B[0;34m]\u001B[0m\u001B[0;34m)\u001B[0m\u001B[0;34m\u001B[0m\u001B[0;34m\u001B[0m\u001B[0m\n\u001B[0m\u001B[1;32m     75\u001B[0m     \u001B[0mvectorize_subset\u001B[0m\u001B[0;34m(\u001B[0m\u001B[0mX_path\u001B[0m\u001B[0;34m,\u001B[0m \u001B[0my_path\u001B[0m\u001B[0;34m,\u001B[0m \u001B[0mraw_feature_paths\u001B[0m\u001B[0;34m,\u001B[0m \u001B[0mextractor\u001B[0m\u001B[0;34m,\u001B[0m \u001B[0mnrows\u001B[0m\u001B[0;34m)\u001B[0m\u001B[0;34m\u001B[0m\u001B[0;34m\u001B[0m\u001B[0m\n\u001B[1;32m     76\u001B[0m \u001B[0;34m\u001B[0m\u001B[0m\n",
      "\u001B[0;32m~/Documents/Uni/Semester11-WS2021/mlcysec/Projects/final/src/final_project_git/ember_github/ember/__init__.py\u001B[0m in \u001B[0;36m<listcomp>\u001B[0;34m(.0)\u001B[0m\n\u001B[1;32m     72\u001B[0m     \u001B[0my_path\u001B[0m \u001B[0;34m=\u001B[0m \u001B[0mos\u001B[0m\u001B[0;34m.\u001B[0m\u001B[0mpath\u001B[0m\u001B[0;34m.\u001B[0m\u001B[0mjoin\u001B[0m\u001B[0;34m(\u001B[0m\u001B[0mdata_dir\u001B[0m\u001B[0;34m,\u001B[0m \u001B[0;34m\"y_train.dat\"\u001B[0m\u001B[0;34m)\u001B[0m\u001B[0;34m\u001B[0m\u001B[0;34m\u001B[0m\u001B[0m\n\u001B[1;32m     73\u001B[0m     \u001B[0mraw_feature_paths\u001B[0m \u001B[0;34m=\u001B[0m \u001B[0;34m[\u001B[0m\u001B[0mos\u001B[0m\u001B[0;34m.\u001B[0m\u001B[0mpath\u001B[0m\u001B[0;34m.\u001B[0m\u001B[0mjoin\u001B[0m\u001B[0;34m(\u001B[0m\u001B[0mdata_dir\u001B[0m\u001B[0;34m,\u001B[0m \u001B[0;34m\"train_features_{}.jsonl\"\u001B[0m\u001B[0;34m.\u001B[0m\u001B[0mformat\u001B[0m\u001B[0;34m(\u001B[0m\u001B[0mi\u001B[0m\u001B[0;34m)\u001B[0m\u001B[0;34m)\u001B[0m \u001B[0;32mfor\u001B[0m \u001B[0mi\u001B[0m \u001B[0;32min\u001B[0m \u001B[0mrange\u001B[0m\u001B[0;34m(\u001B[0m\u001B[0;36m6\u001B[0m\u001B[0;34m)\u001B[0m\u001B[0;34m]\u001B[0m\u001B[0;34m\u001B[0m\u001B[0;34m\u001B[0m\u001B[0m\n\u001B[0;32m---> 74\u001B[0;31m     \u001B[0mnrows\u001B[0m \u001B[0;34m=\u001B[0m \u001B[0msum\u001B[0m\u001B[0;34m(\u001B[0m\u001B[0;34m[\u001B[0m\u001B[0;36m1\u001B[0m \u001B[0;32mfor\u001B[0m \u001B[0mfp\u001B[0m \u001B[0;32min\u001B[0m \u001B[0mraw_feature_paths\u001B[0m \u001B[0;32mfor\u001B[0m \u001B[0mline\u001B[0m \u001B[0;32min\u001B[0m \u001B[0mopen\u001B[0m\u001B[0;34m(\u001B[0m\u001B[0mfp\u001B[0m\u001B[0;34m)\u001B[0m\u001B[0;34m]\u001B[0m\u001B[0;34m)\u001B[0m\u001B[0;34m\u001B[0m\u001B[0;34m\u001B[0m\u001B[0m\n\u001B[0m\u001B[1;32m     75\u001B[0m     \u001B[0mvectorize_subset\u001B[0m\u001B[0;34m(\u001B[0m\u001B[0mX_path\u001B[0m\u001B[0;34m,\u001B[0m \u001B[0my_path\u001B[0m\u001B[0;34m,\u001B[0m \u001B[0mraw_feature_paths\u001B[0m\u001B[0;34m,\u001B[0m \u001B[0mextractor\u001B[0m\u001B[0;34m,\u001B[0m \u001B[0mnrows\u001B[0m\u001B[0;34m)\u001B[0m\u001B[0;34m\u001B[0m\u001B[0;34m\u001B[0m\u001B[0m\n\u001B[1;32m     76\u001B[0m \u001B[0;34m\u001B[0m\u001B[0m\n",
      "\u001B[0;32m~/anaconda3/envs/final_mlcysec/lib/python3.8/codecs.py\u001B[0m in \u001B[0;36mdecode\u001B[0;34m(self, input, final)\u001B[0m\n\u001B[1;32m    317\u001B[0m         \u001B[0;32mraise\u001B[0m \u001B[0mNotImplementedError\u001B[0m\u001B[0;34m\u001B[0m\u001B[0;34m\u001B[0m\u001B[0m\n\u001B[1;32m    318\u001B[0m \u001B[0;34m\u001B[0m\u001B[0m\n\u001B[0;32m--> 319\u001B[0;31m     \u001B[0;32mdef\u001B[0m \u001B[0mdecode\u001B[0m\u001B[0;34m(\u001B[0m\u001B[0mself\u001B[0m\u001B[0;34m,\u001B[0m \u001B[0minput\u001B[0m\u001B[0;34m,\u001B[0m \u001B[0mfinal\u001B[0m\u001B[0;34m=\u001B[0m\u001B[0;32mFalse\u001B[0m\u001B[0;34m)\u001B[0m\u001B[0;34m:\u001B[0m\u001B[0;34m\u001B[0m\u001B[0;34m\u001B[0m\u001B[0m\n\u001B[0m\u001B[1;32m    320\u001B[0m         \u001B[0;31m# decode input (taking the buffer into account)\u001B[0m\u001B[0;34m\u001B[0m\u001B[0;34m\u001B[0m\u001B[0;34m\u001B[0m\u001B[0m\n\u001B[1;32m    321\u001B[0m         \u001B[0mdata\u001B[0m \u001B[0;34m=\u001B[0m \u001B[0mself\u001B[0m\u001B[0;34m.\u001B[0m\u001B[0mbuffer\u001B[0m \u001B[0;34m+\u001B[0m \u001B[0minput\u001B[0m\u001B[0;34m\u001B[0m\u001B[0;34m\u001B[0m\u001B[0m\n",
      "\u001B[0;31mKeyboardInterrupt\u001B[0m: "
     ]
    }
   ],
   "source": [
    "ember.create_vectorized_features(data_dir)\n",
    "_ = ember.create_metadata(data_dir)"
   ]
  },
  {
   "cell_type": "code",
   "execution_count": 9,
   "metadata": {},
   "outputs": [],
   "source": [
    "emberdf = ember.read_metadata(data_dir)\n",
    "X_train, y_train, X_test, y_test = ember.read_vectorized_features(data_dir)\n",
    "lgbm_model = lgb.Booster(model_file=os.path.join(data_dir, \"ember_model_2018.txt\"))"
   ]
  },
  {
   "cell_type": "code",
   "execution_count": 11,
   "metadata": {},
   "outputs": [
    {
     "data": {
      "application/javascript": "const spec = {\"config\": {\"view\": {\"continuousWidth\": 400, \"continuousHeight\": 300}}, \"data\": {\"name\": \"data-7e13dd54bc8a1e4dcd9e783efd3ade07\"}, \"mark\": \"bar\", \"encoding\": {\"color\": {\"type\": \"nominal\", \"field\": \"label\", \"legend\": {\"values\": [\"unlabeled\", \"benign\", \"malicious\"]}, \"scale\": {\"range\": [\"#00b300\", \"#3333ff\", \"#ff3333\"]}}, \"x\": {\"type\": \"ordinal\", \"axis\": {\"title\": \"Subset\"}, \"field\": \"subset\"}, \"y\": {\"type\": \"quantitative\", \"aggregate\": \"sum\", \"axis\": {\"title\": \"Number of samples\"}, \"field\": \"sha256\"}}, \"$schema\": \"https://vega.github.io/schema/vega-lite/v4.8.1.json\", \"datasets\": {\"data-7e13dd54bc8a1e4dcd9e783efd3ade07\": [{\"label\": -1, \"subset\": \"train\", \"avclass\": 96433, \"sha256\": 200000, \"appeared\": 200000}, {\"label\": 0, \"subset\": \"test\", \"avclass\": 0, \"sha256\": 100000, \"appeared\": 100000}, {\"label\": 0, \"subset\": \"train\", \"avclass\": 0, \"sha256\": 300000, \"appeared\": 300000}, {\"label\": 1, \"subset\": \"test\", \"avclass\": 99321, \"sha256\": 100000, \"appeared\": 100000}, {\"label\": 1, \"subset\": \"train\", \"avclass\": 289246, \"sha256\": 300000, \"appeared\": 300000}]}};\nconst opt = {};\nconst type = \"vega-lite\";\nconst id = \"6dd68507-f3e8-4752-96a7-3684964e4fe4\";\n\nconst output_area = this;\n\nrequire([\"nbextensions/jupyter-vega/index\"], function(vega) {\n  const target = document.createElement(\"div\");\n  target.id = id;\n  target.className = \"vega-embed\";\n\n  const style = document.createElement(\"style\");\n  style.textContent = [\n    \".vega-embed .error p {\",\n    \"  color: firebrick;\",\n    \"  font-size: 14px;\",\n    \"}\",\n  ].join(\"\\\\n\");\n\n  // element is a jQuery wrapped DOM element inside the output area\n  // see http://ipython.readthedocs.io/en/stable/api/generated/\\\n  // IPython.display.html#IPython.display.Javascript.__init__\n  element[0].appendChild(target);\n  element[0].appendChild(style);\n\n  vega.render(\"#\" + id, spec, type, opt, output_area);\n}, function (err) {\n  if (err.requireType !== \"scripterror\") {\n    throw(err);\n  }\n});\n",
      "text/plain": "<vega.vegalite.VegaLite at 0x7f9ac25238b0>"
     },
     "metadata": {
      "jupyter-vega": "#6dd68507-f3e8-4752-96a7-3684964e4fe4"
     },
     "output_type": "display_data"
    },
    {
     "data": {
      "text/plain": ""
     },
     "execution_count": 11,
     "metadata": {},
     "output_type": "execute_result"
    }
   ],
   "source": [
    "plotdf = emberdf.copy()\n",
    "gbdf = plotdf.groupby([\"label\", \"subset\"]).count().reset_index()\n",
    "alt.Chart(gbdf).mark_bar().encode(\n",
    "    alt.X('subset:O', axis=alt.Axis(title='Subset')),\n",
    "    alt.Y('sum(sha256):Q', axis=alt.Axis(title='Number of samples')),\n",
    "    alt.Color('label:N', scale=alt.Scale(range=[\"#00b300\", \"#3333ff\", \"#ff3333\"]), legend=alt.Legend(values=[\"unlabeled\", \"benign\", \"malicious\"]))\n",
    ")"
   ]
  },
  {
   "cell_type": "code",
   "execution_count": 12,
   "metadata": {},
   "outputs": [
    {
     "data": {
      "application/javascript": "const spec = {\"config\": {\"view\": {\"continuousWidth\": 400, \"continuousHeight\": 300}}, \"data\": {\"name\": \"data-58528f5c24b12afa02602281cb716a74\"}, \"mark\": \"bar\", \"encoding\": {\"color\": {\"type\": \"nominal\", \"field\": \"label\", \"legend\": {\"values\": [\"unlabeled\", \"benign\", \"malicious\"]}, \"scale\": {\"range\": [\"#00b300\", \"#3333ff\", \"#ff3333\"]}}, \"x\": {\"type\": \"ordinal\", \"axis\": {\"title\": \"Month appeared\"}, \"field\": \"appeared\"}, \"y\": {\"type\": \"quantitative\", \"aggregate\": \"sum\", \"axis\": {\"title\": \"Number of samples\"}, \"field\": \"sha256\"}}, \"$schema\": \"https://vega.github.io/schema/vega-lite/v4.8.1.json\", \"datasets\": {\"data-58528f5c24b12afa02602281cb716a74\": [{\"appeared\": \" <2018\", \"label\": 0, \"avclass\": 0, \"sha256\": 50000, \"subset\": 50000}, {\"appeared\": \"2018-01\", \"label\": -1, \"avclass\": 10482, \"sha256\": 22788, \"subset\": 22788}, {\"appeared\": \"2018-01\", \"label\": 0, \"avclass\": 0, \"sha256\": 29423, \"subset\": 29423}, {\"appeared\": \"2018-01\", \"label\": 1, \"avclass\": 30723, \"sha256\": 32491, \"subset\": 32491}, {\"appeared\": \"2018-02\", \"label\": -1, \"avclass\": 9644, \"sha256\": 19319, \"subset\": 19319}, {\"appeared\": \"2018-02\", \"label\": 0, \"avclass\": 0, \"sha256\": 22915, \"subset\": 22915}, {\"appeared\": \"2018-02\", \"label\": 1, \"avclass\": 29368, \"sha256\": 31222, \"subset\": 31222}, {\"appeared\": \"2018-03\", \"label\": -1, \"avclass\": 6432, \"sha256\": 15404, \"subset\": 15404}, {\"appeared\": \"2018-03\", \"label\": 0, \"avclass\": 0, \"sha256\": 21373, \"subset\": 21373}, {\"appeared\": \"2018-03\", \"label\": 1, \"avclass\": 19080, \"sha256\": 20152, \"subset\": 20152}, {\"appeared\": \"2018-04\", \"label\": -1, \"avclass\": 8685, \"sha256\": 18880, \"subset\": 18880}, {\"appeared\": \"2018-04\", \"label\": 0, \"avclass\": 0, \"sha256\": 25190, \"subset\": 25190}, {\"appeared\": \"2018-04\", \"label\": 1, \"avclass\": 26061, \"sha256\": 26892, \"subset\": 26892}, {\"appeared\": \"2018-05\", \"label\": -1, \"avclass\": 7232, \"sha256\": 17088, \"subset\": 17088}, {\"appeared\": \"2018-05\", \"label\": 0, \"avclass\": 0, \"sha256\": 23719, \"subset\": 23719}, {\"appeared\": \"2018-05\", \"label\": 1, \"avclass\": 21530, \"sha256\": 22193, \"subset\": 22193}, {\"appeared\": \"2018-06\", \"label\": -1, \"avclass\": 8010, \"sha256\": 17794, \"subset\": 17794}, {\"appeared\": \"2018-06\", \"label\": 0, \"avclass\": 0, \"sha256\": 23285, \"subset\": 23285}, {\"appeared\": \"2018-06\", \"label\": 1, \"avclass\": 23963, \"sha256\": 25116, \"subset\": 25116}, {\"appeared\": \"2018-07\", \"label\": -1, \"avclass\": 8496, \"sha256\": 18643, \"subset\": 18643}, {\"appeared\": \"2018-07\", \"label\": 0, \"avclass\": 0, \"sha256\": 24799, \"subset\": 24799}, {\"appeared\": \"2018-07\", \"label\": 1, \"avclass\": 25880, \"sha256\": 26622, \"subset\": 26622}, {\"appeared\": \"2018-08\", \"label\": -1, \"avclass\": 6794, \"sha256\": 16693, \"subset\": 16693}, {\"appeared\": \"2018-08\", \"label\": 0, \"avclass\": 0, \"sha256\": 23634, \"subset\": 23634}, {\"appeared\": \"2018-08\", \"label\": 1, \"avclass\": 20590, \"sha256\": 21791, \"subset\": 21791}, {\"appeared\": \"2018-09\", \"label\": -1, \"avclass\": 11893, \"sha256\": 22583, \"subset\": 22583}, {\"appeared\": \"2018-09\", \"label\": 0, \"avclass\": 0, \"sha256\": 25707, \"subset\": 25707}, {\"appeared\": \"2018-09\", \"label\": 1, \"avclass\": 35708, \"sha256\": 37062, \"subset\": 37062}, {\"appeared\": \"2018-10\", \"label\": -1, \"avclass\": 18765, \"sha256\": 30808, \"subset\": 30808}, {\"appeared\": \"2018-10\", \"label\": 0, \"avclass\": 0, \"sha256\": 29955, \"subset\": 29955}, {\"appeared\": \"2018-10\", \"label\": 1, \"avclass\": 56343, \"sha256\": 56459, \"subset\": 56459}, {\"appeared\": \"2018-11\", \"label\": 0, \"avclass\": 0, \"sha256\": 50000, \"subset\": 50000}, {\"appeared\": \"2018-11\", \"label\": 1, \"avclass\": 49796, \"sha256\": 50000, \"subset\": 50000}, {\"appeared\": \"2018-12\", \"label\": 0, \"avclass\": 0, \"sha256\": 50000, \"subset\": 50000}, {\"appeared\": \"2018-12\", \"label\": 1, \"avclass\": 49525, \"sha256\": 50000, \"subset\": 50000}]}};\nconst opt = {};\nconst type = \"vega-lite\";\nconst id = \"94b383b9-3ea5-4d35-a6f6-713b88f5a903\";\n\nconst output_area = this;\n\nrequire([\"nbextensions/jupyter-vega/index\"], function(vega) {\n  const target = document.createElement(\"div\");\n  target.id = id;\n  target.className = \"vega-embed\";\n\n  const style = document.createElement(\"style\");\n  style.textContent = [\n    \".vega-embed .error p {\",\n    \"  color: firebrick;\",\n    \"  font-size: 14px;\",\n    \"}\",\n  ].join(\"\\\\n\");\n\n  // element is a jQuery wrapped DOM element inside the output area\n  // see http://ipython.readthedocs.io/en/stable/api/generated/\\\n  // IPython.display.html#IPython.display.Javascript.__init__\n  element[0].appendChild(target);\n  element[0].appendChild(style);\n\n  vega.render(\"#\" + id, spec, type, opt, output_area);\n}, function (err) {\n  if (err.requireType !== \"scripterror\") {\n    throw(err);\n  }\n});\n",
      "text/plain": "<vega.vegalite.VegaLite at 0x7f9afefee8e0>"
     },
     "metadata": {
      "jupyter-vega": "#94b383b9-3ea5-4d35-a6f6-713b88f5a903"
     },
     "output_type": "display_data"
    },
    {
     "data": {
      "text/plain": ""
     },
     "execution_count": 12,
     "metadata": {},
     "output_type": "execute_result"
    }
   ],
   "source": [
    "plotdf = emberdf.copy()\n",
    "plotdf.loc[plotdf[\"appeared\"] < \"2018-01\", \"appeared\"] = \" <2018\"\n",
    "gbdf = plotdf.groupby([\"appeared\", \"label\"]).count().reset_index()\n",
    "alt.Chart(gbdf).mark_bar().encode(\n",
    "    alt.X('appeared:O', axis=alt.Axis(title='Month appeared')),\n",
    "    alt.Y('sum(sha256):Q', axis=alt.Axis(title='Number of samples')),\n",
    "    alt.Color('label:N', scale=alt.Scale(range=[\"#00b300\", \"#3333ff\", \"#ff3333\"]), legend=alt.Legend(values=[\"unlabeled\", \"benign\", \"malicious\"]))\n",
    ")"
   ]
  },
  {
   "cell_type": "code",
   "execution_count": 13,
   "metadata": {},
   "outputs": [],
   "source": [
    "y_test_pred = lgbm_model.predict(X_test)\n",
    "y_train_pred = lgbm_model.predict(X_train)\n",
    "emberdf[\"y_pred\"] = np.hstack((y_train_pred, y_test_pred))"
   ]
  },
  {
   "cell_type": "code",
   "execution_count": 14,
   "metadata": {},
   "outputs": [
    {
     "name": "stdout",
     "output_type": "stream",
     "text": [
      "ROC AUC: 0.9964289467999999\n",
      "\n",
      "Ember Model Performance at 1% FPR:\n",
      "Threshold: 0.8336\n",
      "False Positive Rate: 1.000%\n",
      "False Negative Rate: 3.502%\n",
      "Detection Rate: 96.498%\n",
      "\n",
      "Ember Model Performance at 0.1% FPR:\n",
      "Threshold: 0.9996\n",
      "False Positive Rate: 0.098%\n",
      "False Negative Rate: 13.192%\n",
      "Detection Rate: 86.80799999999999%\n"
     ]
    }
   ],
   "source": [
    "def get_fpr(y_true, y_pred):\n",
    "    nbenign = (y_true == 0).sum()\n",
    "    nfalse = (y_pred[y_true == 0] == 1).sum()\n",
    "    return nfalse / float(nbenign)\n",
    "\n",
    "\n",
    "def find_threshold(y_true, y_pred, fpr_target):\n",
    "    thresh = 0.0\n",
    "    fpr = get_fpr(y_true, y_pred > thresh)\n",
    "    while fpr > fpr_target and thresh < 1.0:\n",
    "        thresh += 0.0001\n",
    "        fpr = get_fpr(y_true, y_pred > thresh)\n",
    "    return thresh, fpr\n",
    "\n",
    "testdf = emberdf[emberdf[\"subset\"] == \"test\"]\n",
    "print(\"ROC AUC:\", roc_auc_score(testdf.label, testdf.y_pred))\n",
    "print()\n",
    "\n",
    "threshold, fpr = find_threshold(testdf.label, testdf.y_pred, 0.01)\n",
    "fnr = (testdf.y_pred[testdf.label == 1] < threshold).sum() / float((testdf.label == 1).sum())\n",
    "print(\"Ember Model Performance at 1% FPR:\")\n",
    "print(\"Threshold: {:.4f}\".format(threshold))\n",
    "print(\"False Positive Rate: {:.3f}%\".format(fpr * 100))\n",
    "print(\"False Negative Rate: {:.3f}%\".format(fnr * 100))\n",
    "print(\"Detection Rate: {}%\".format(100 - fnr * 100))\n",
    "print()\n",
    "\n",
    "threshold, fpr = find_threshold(testdf.label, testdf.y_pred, 0.001)\n",
    "fnr = (testdf.y_pred[testdf.label == 1] < threshold).sum() / float((testdf.label == 1).sum())\n",
    "print(\"Ember Model Performance at 0.1% FPR:\")\n",
    "print(\"Threshold: {:.4f}\".format(threshold))\n",
    "print(\"False Positive Rate: {:.3f}%\".format(fpr * 100))\n",
    "print(\"False Negative Rate: {:.3f}%\".format(fnr * 100))\n",
    "print(\"Detection Rate: {}%\".format(100 - fnr * 100))"
   ]
  },
  {
   "cell_type": "code",
   "execution_count": 16,
   "metadata": {},
   "outputs": [
    {
     "data": {
      "text/plain": "<Figure size 576x576 with 1 Axes>",
      "image/png": "[encoded data removed]"
     },
     "metadata": {
      "needs_background": "light"
     },
     "output_type": "display_data"
    }
   ],
   "source": [
    "plt.figure(figsize=(8, 8))\n",
    "fpr_plot, tpr_plot, _ = roc_curve(testdf.label, testdf.y_pred)\n",
    "plt.plot(fpr_plot, tpr_plot, lw=4, color='k')\n",
    "plt.gca().set_xscale(\"log\")\n",
    "plt.yticks(np.arange(22) / 20.0)\n",
    "plt.xlim([4e-5, 1.0])\n",
    "plt.ylim([0.65, 1.01])\n",
    "plt.gca().grid(True)\n",
    "plt.vlines(fpr, 0, 1 - fnr, color=\"r\", lw=2)\n",
    "plt.hlines(1 - fnr, 0, fpr, color=\"r\", lw=2)\n",
    "plt.xlabel(\"False positive rate\")\n",
    "plt.ylabel(\"True positive rate\")\n",
    "_ = plt.title(\"Ember Model ROC Curve\")"
   ]
  },
  {
   "cell_type": "code",
   "execution_count": 17,
   "metadata": {},
   "outputs": [
    {
     "name": "stderr",
     "output_type": "stream",
     "text": [
      "<ipython-input-17-9b4e0655f76f>:4: MatplotlibDeprecationWarning: The 'nonposy' parameter of __init__() has been renamed 'nonpositive' since Matplotlib 3.3; support for the old name will be dropped two minor releases later.\n",
      "  plt.gca().set_yscale(\"log\", nonposy=\"clip\")\n"
     ]
    },
    {
     "data": {
      "text/plain": "<Figure size 576x576 with 1 Axes>",
      "image/png": "[encoded data removed]"
     },
     "metadata": {
      "needs_background": "light"
     },
     "output_type": "display_data"
    }
   ],
   "source": [
    "fig = plt.figure(figsize=(8, 8))\n",
    "testdf[testdf[\"label\"] == 0].y_pred.hist(range=[0, 1], bins=10, color=\"#3333ff\", alpha=0.8, label=\"benign\")\n",
    "testdf[testdf[\"label\"] == 1].y_pred.hist(range=[0, 1], bins=10, color=\"#ff3333\", alpha=0.8, label=\"malicious\")\n",
    "plt.gca().set_yscale(\"log\", nonposy=\"clip\")\n",
    "plt.gca().grid(False)\n",
    "plt.xlabel(\"Score\")\n",
    "plt.ylabel(\"Count\")\n",
    "_ = plt.title(\"Ember Test Set Model Score\")"
   ]
  }
 ],
 "metadata": {
  "kernelspec": {
   "name": "python3",
   "language": "python",
   "display_name": "Python 3"
  },
  "language_info": {
   "codemirror_mode": {
    "name": "ipython",
    "version": 3
   },
   "file_extension": ".py",
   "mimetype": "text/x-python",
   "name": "python",
   "nbconvert_exporter": "python",
   "pygments_lexer": "ipython3",
   "version": "3.6.7"
  }
 },
 "nbformat": 4,
 "nbformat_minor": 2
}