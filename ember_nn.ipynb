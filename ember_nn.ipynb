{
 "cells": [
  {
   "cell_type": "code",
   "execution_count": 1,
   "metadata": {},
   "outputs": [],
   "source": [
    "from IPython.core.display import display\n",
    "import preprocessing\n",
    "import ember_net\n",
    "import plots\n",
    "import evaluation\n",
    "import adverserial_gen\n",
    "import os\n",
    "import gc\n",
    "import torch\n",
    "import torch.optim as optim\n",
    "import torch.nn.functional as F\n",
    "import tqdm\n",
    "from torchinfo import summary\n",
    "import time"
   ]
  },
  {
   "cell_type": "code",
   "execution_count": 20,
   "metadata": {},
   "outputs": [
    {
     "data": {
      "text/plain": [
       "<module 'evaluation' from '/src/final_project_git/evaluation.py'>"
      ]
     },
     "execution_count": 20,
     "metadata": {},
     "output_type": "execute_result"
    }
   ],
   "source": [
    "# run this if you made some changes in the python files while notebook kerel was running\n",
    "import importlib\n",
    "importlib.reload(preprocessing)\n",
    "importlib.reload(ember_net)\n",
    "importlib.reload(plots)\n",
    "importlib.reload(evaluation)\n",
    "importlib.reload(adverserial_gen)\n"
   ]
  },
  {
   "cell_type": "code",
   "execution_count": 19,
   "metadata": {
    "collapsed": false,
    "jupyter": {
     "outputs_hidden": false
    },
    "pycharm": {
     "name": "#%%\n"
    }
   },
   "outputs": [],
   "source": [
    "compute_mode = 'gpu'\n",
    "\n",
    "if compute_mode == 'cpu':\n",
    "    device = torch.device('cpu')\n",
    "elif compute_mode == 'gpu' and torch.cuda.is_available():\n",
    "    # If you are using pytorch on the GPU cluster, you have to manually specify which GPU device to use\n",
    "    # It is extremely important that you *do not* spawn multi-GPU jobs.\n",
    "    os.environ[\"CUDA_DEVICE_ORDER\"] = \"PCI_BUS_ID\"\n",
    "    os.environ[\"CUDA_VISIBLE_DEVICES\"] = '0'    # Set device ID here\n",
    "    device = torch.device('cuda')\n",
    "else:\n",
    "    raise ValueError('Unrecognized compute mode')"
   ]
  },
  {
   "cell_type": "code",
   "execution_count": 4,
   "metadata": {},
   "outputs": [],
   "source": [
    "# some meta parameters\n",
    "lr = 0.001\n",
    "batch_size = 100\n",
    "path = 'model/EmberNet2'"
   ]
  },
  {
   "cell_type": "code",
   "execution_count": 5,
   "metadata": {
    "collapsed": false,
    "jupyter": {
     "outputs_hidden": false
    },
    "pycharm": {
     "name": "#%%\n"
    }
   },
   "outputs": [
    {
     "name": "stdout",
     "output_type": "stream",
     "text": [
      "Reading 600000 samples from training set \n",
      "Reading 200000 samples from test set\n",
      "========================================================================================== \n",
      "Samples in training set: 539400\n",
      "Samples in validation set: 60000\n",
      "Samples in adverserial set: 600\n",
      "Samples in test set: 200000 \n",
      "==========================================================================================\n"
     ]
    }
   ],
   "source": [
    "# load the data and put it into a pytorch dataloader.\n",
    "# You can set debug_fragment to a float between 0 and 1 to only use a fraction of the data for debugging\n",
    "train_loader, val_loader, adv_loader, test_loader, scaler = \\\n",
    "    preprocessing.pipeline(\"ember2018\" , 'model/', batch_size = batch_size, debug_fragment = None, collect_hashes=False, vectorize=False)"
   ]
  },
  {
   "cell_type": "code",
   "execution_count": 6,
   "metadata": {
    "collapsed": false,
    "jupyter": {
     "outputs_hidden": false
    },
    "pycharm": {
     "name": "#%%\n"
    }
   },
   "outputs": [
    {
     "name": "stdout",
     "output_type": "stream",
     "text": [
      "==========================================================================================\n",
      "Layer (type:depth-idx)                   Output Shape              Param #\n",
      "==========================================================================================\n",
      "├─Conv1d: 1-1                            [100, 128, 37]            8,320\n",
      "├─BatchNorm1d: 1-2                       [100, 128, 37]            256\n",
      "├─Dropout: 1-3                           [100, 128, 37]            --\n",
      "├─Conv1d: 1-4                            [100, 128, 18]            49,280\n",
      "├─BatchNorm1d: 1-5                       [100, 128, 18]            256\n",
      "├─Dropout: 1-6                           [100, 128, 18]            --\n",
      "├─Linear: 1-7                            [100, 256]                590,080\n",
      "├─BatchNorm1d: 1-8                       [100, 256]                512\n",
      "├─Dropout: 1-9                           [100, 256]                --\n",
      "├─Linear: 1-10                           [100, 32]                 8,224\n",
      "├─BatchNorm1d: 1-11                      [100, 32]                 64\n",
      "├─Linear: 1-12                           [100, 2]                  66\n",
      "==========================================================================================\n",
      "Total params: 657,058\n",
      "Trainable params: 657,058\n",
      "Non-trainable params: 0\n",
      "Total mult-adds (M): 1.79\n",
      "==========================================================================================\n",
      "Input size (MB): 0.91\n",
      "Forward/backward pass size (MB): 11.18\n",
      "Params size (MB): 2.51\n",
      "Estimated Total Size (MB): 14.60\n",
      "==========================================================================================\n"
     ]
    }
   ],
   "source": [
    "# initialize the model and optimizer\n",
    "model = ember_net.EmberNet(device, scaler)\n",
    "summary(model, (batch_size, 1, 2381))\n",
    "opt = optim.Adam(model.parameters(), lr=lr,amsgrad=True) "
   ]
  },
  {
   "cell_type": "code",
   "execution_count": 7,
   "metadata": {},
   "outputs": [
    {
     "data": {
      "image/png": "[encoded data removed]",
      "text/plain": [
       "<Figure size 1152x432 with 2 Axes>"
      ]
     },
     "metadata": {
      "needs_background": "light"
     },
     "output_type": "display_data"
    }
   ],
   "source": [
    "# only execute this cell if you want to load a pretrained model.\n",
    "# you can continue training on a pretrained model or just evaluate the model\n",
    "# the saved model should have been trained with the same model architecture as \"model\"!\n",
    "model.load(path)\n",
    "model.plot()"
   ]
  },
  {
   "cell_type": "code",
   "execution_count": null,
   "metadata": {
    "collapsed": false,
    "jupyter": {
     "outputs_hidden": false
    },
    "pycharm": {
     "is_executing": true,
     "name": "#%%\n"
    }
   },
   "outputs": [],
   "source": [
    "# execute this cell to train the model. Note that the paths to save the model will be overwritten\n",
    "# you can reevaluate the cell to continue training on the model which is in memory\n",
    "model.fit(epochs=1, loss_func= F.cross_entropy, opt=opt, train_dl=train_loader, valid_dl=val_loader, save_path='model/tmp')\n",
    "model.save(path)"
   ]
  },
  {
   "cell_type": "code",
   "execution_count": 8,
   "metadata": {},
   "outputs": [
    {
     "name": "stdout",
     "output_type": "stream",
     "text": [
      "Test Loss= 0.35084766149520874\t Test Accuracy= 0.96146\n",
      "Prediction Time 7.24\n"
     ]
    }
   ],
   "source": [
    "start_time = time.time()\n",
    "model.test(F.cross_entropy, test_loader)\n",
    "end_time = time.time()\n",
    "\n",
    "print ('Prediction Time',round(end_time-start_time,2) )"
   ]
  },
  {
   "cell_type": "code",
   "execution_count": 9,
   "metadata": {},
   "outputs": [
    {
     "data": {
      "application/vnd.jupyter.widget-view+json": {
       "model_id": "a9e3dd741c90434dbfceac1c20d87406",
       "version_major": 2,
       "version_minor": 0
      },
      "text/plain": [
       "  0%|          | 0/10 [00:00<?, ?it/s]"
      ]
     },
     "metadata": {},
     "output_type": "display_data"
    },
    {
     "data": {
      "application/vnd.jupyter.widget-view+json": {
       "model_id": "a50a16c8e6b0495b8d5ddaf3bb072ea3",
       "version_major": 2,
       "version_minor": 0
      },
      "text/plain": [
       "  0%|          | 0/6 [00:00<?, ?it/s]"
      ]
     },
     "metadata": {},
     "output_type": "display_data"
    },
    {
     "name": "stdout",
     "output_type": "stream",
     "text": [
      "Original Loss= 0.33283987641334534\t Original Accuracy= 0.98\t Adverserial Loss= 0.3371667265892029\t Adverserial Accuracy= 0.974025974025974\n"
     ]
    },
    {
     "data": {
      "application/vnd.jupyter.widget-view+json": {
       "model_id": "356528ffb875493d893e3393b3c49160",
       "version_major": 2,
       "version_minor": 0
      },
      "text/plain": [
       "  0%|          | 0/6 [00:00<?, ?it/s]"
      ]
     },
     "metadata": {},
     "output_type": "display_data"
    },
    {
     "name": "stdout",
     "output_type": "stream",
     "text": [
      "Original Loss= 0.33283987641334534\t Original Accuracy= 0.98\t Adverserial Loss= 0.5720379948616028\t Adverserial Accuracy= 0.737012987012987\n"
     ]
    },
    {
     "data": {
      "application/vnd.jupyter.widget-view+json": {
       "model_id": "e276f39496324ef19256a5ebc29748e1",
       "version_major": 2,
       "version_minor": 0
      },
      "text/plain": [
       "  0%|          | 0/6 [00:00<?, ?it/s]"
      ]
     },
     "metadata": {},
     "output_type": "display_data"
    },
    {
     "name": "stdout",
     "output_type": "stream",
     "text": [
      "Original Loss= 0.33283987641334534\t Original Accuracy= 0.98\t Adverserial Loss= 0.6741222143173218\t Adverserial Accuracy= 0.6298701298701299\n"
     ]
    },
    {
     "data": {
      "application/vnd.jupyter.widget-view+json": {
       "model_id": "f292713a60dd45b0a538ab7ec6edf2f0",
       "version_major": 2,
       "version_minor": 0
      },
      "text/plain": [
       "  0%|          | 0/6 [00:00<?, ?it/s]"
      ]
     },
     "metadata": {},
     "output_type": "display_data"
    },
    {
     "name": "stdout",
     "output_type": "stream",
     "text": [
      "Original Loss= 0.33283987641334534\t Original Accuracy= 0.98\t Adverserial Loss= 0.7671006321907043\t Adverserial Accuracy= 0.5194805194805194\n"
     ]
    },
    {
     "data": {
      "application/vnd.jupyter.widget-view+json": {
       "model_id": "ee5c50a03c6f4525aee032fb2aa379ca",
       "version_major": 2,
       "version_minor": 0
      },
      "text/plain": [
       "  0%|          | 0/6 [00:00<?, ?it/s]"
      ]
     },
     "metadata": {},
     "output_type": "display_data"
    },
    {
     "name": "stdout",
     "output_type": "stream",
     "text": [
      "Original Loss= 0.33283987641334534\t Original Accuracy= 0.98\t Adverserial Loss= 0.8488824963569641\t Adverserial Accuracy= 0.43506493506493504\n"
     ]
    },
    {
     "data": {
      "application/vnd.jupyter.widget-view+json": {
       "model_id": "b1c76745ee754e3f98f88489048eec00",
       "version_major": 2,
       "version_minor": 0
      },
      "text/plain": [
       "  0%|          | 0/6 [00:00<?, ?it/s]"
      ]
     },
     "metadata": {},
     "output_type": "display_data"
    },
    {
     "name": "stdout",
     "output_type": "stream",
     "text": [
      "Original Loss= 0.33283987641334534\t Original Accuracy= 0.98\t Adverserial Loss= 0.8938707709312439\t Adverserial Accuracy= 0.4155844155844156\n"
     ]
    },
    {
     "data": {
      "application/vnd.jupyter.widget-view+json": {
       "model_id": "0078e520fa9b41fd825298b20f39b537",
       "version_major": 2,
       "version_minor": 0
      },
      "text/plain": [
       "  0%|          | 0/6 [00:00<?, ?it/s]"
      ]
     },
     "metadata": {},
     "output_type": "display_data"
    },
    {
     "name": "stdout",
     "output_type": "stream",
     "text": [
      "Original Loss= 0.33283987641334534\t Original Accuracy= 0.98\t Adverserial Loss= 0.9024728536605835\t Adverserial Accuracy= 0.39935064935064934\n"
     ]
    },
    {
     "data": {
      "application/vnd.jupyter.widget-view+json": {
       "model_id": "443d3491cc7c459f9c0d6828742f6ea2",
       "version_major": 2,
       "version_minor": 0
      },
      "text/plain": [
       "  0%|          | 0/6 [00:00<?, ?it/s]"
      ]
     },
     "metadata": {},
     "output_type": "display_data"
    },
    {
     "name": "stdout",
     "output_type": "stream",
     "text": [
      "Original Loss= 0.33283987641334534\t Original Accuracy= 0.98\t Adverserial Loss= 0.9102767109870911\t Adverserial Accuracy= 0.38961038961038963\n"
     ]
    },
    {
     "data": {
      "application/vnd.jupyter.widget-view+json": {
       "model_id": "e15e4cce074c4f669351d36c19cbc5eb",
       "version_major": 2,
       "version_minor": 0
      },
      "text/plain": [
       "  0%|          | 0/6 [00:00<?, ?it/s]"
      ]
     },
     "metadata": {},
     "output_type": "display_data"
    },
    {
     "name": "stdout",
     "output_type": "stream",
     "text": [
      "Original Loss= 0.33283987641334534\t Original Accuracy= 0.98\t Adverserial Loss= 0.9318376779556274\t Adverserial Accuracy= 0.36038961038961037\n"
     ]
    },
    {
     "data": {
      "application/vnd.jupyter.widget-view+json": {
       "model_id": "7e0c4f8590e74ca08390c3a7a4ca4c01",
       "version_major": 2,
       "version_minor": 0
      },
      "text/plain": [
       "  0%|          | 0/6 [00:00<?, ?it/s]"
      ]
     },
     "metadata": {},
     "output_type": "display_data"
    },
    {
     "name": "stdout",
     "output_type": "stream",
     "text": [
      "Original Loss= 0.33283987641334534\t Original Accuracy= 0.98\t Adverserial Loss= 0.9497857093811035\t Adverserial Accuracy= 0.3538961038961039\n"
     ]
    },
    {
     "data": {
      "application/vnd.jupyter.widget-view+json": {
       "model_id": "b2dad1caf21b43feb337d090d8b08fd6",
       "version_major": 2,
       "version_minor": 0
      },
      "text/plain": [
       "  0%|          | 0/10 [00:00<?, ?it/s]"
      ]
     },
     "metadata": {},
     "output_type": "display_data"
    },
    {
     "data": {
      "application/vnd.jupyter.widget-view+json": {
       "model_id": "e9f92d8e8baa4f9e8ed93a8fbb2b6001",
       "version_major": 2,
       "version_minor": 0
      },
      "text/plain": [
       "  0%|          | 0/6 [00:00<?, ?it/s]"
      ]
     },
     "metadata": {},
     "output_type": "display_data"
    },
    {
     "name": "stdout",
     "output_type": "stream",
     "text": [
      "Original Loss= 0.33283987641334534\t Original Accuracy= 0.98\t Adverserial Loss= 0.33283987641334534\t Adverserial Accuracy= 0.98\n"
     ]
    },
    {
     "data": {
      "application/vnd.jupyter.widget-view+json": {
       "model_id": "ca24ffb8cacd459ab988be2d1b72c1e1",
       "version_major": 2,
       "version_minor": 0
      },
      "text/plain": [
       "  0%|          | 0/6 [00:00<?, ?it/s]"
      ]
     },
     "metadata": {},
     "output_type": "display_data"
    },
    {
     "name": "stdout",
     "output_type": "stream",
     "text": [
      "Original Loss= 0.33283987641334534\t Original Accuracy= 0.98\t Adverserial Loss= 0.48877397179603577\t Adverserial Accuracy= 0.8216666666666667\n"
     ]
    },
    {
     "data": {
      "application/vnd.jupyter.widget-view+json": {
       "model_id": "7abf3b95a21a41419f563e7440a15f82",
       "version_major": 2,
       "version_minor": 0
      },
      "text/plain": [
       "  0%|          | 0/6 [00:00<?, ?it/s]"
      ]
     },
     "metadata": {},
     "output_type": "display_data"
    },
    {
     "name": "stdout",
     "output_type": "stream",
     "text": [
      "Original Loss= 0.33283987641334534\t Original Accuracy= 0.98\t Adverserial Loss= 0.572946310043335\t Adverserial Accuracy= 0.735\n"
     ]
    },
    {
     "data": {
      "application/vnd.jupyter.widget-view+json": {
       "model_id": "399857307cdb4313a0b65f56b50d4630",
       "version_major": 2,
       "version_minor": 0
      },
      "text/plain": [
       "  0%|          | 0/6 [00:00<?, ?it/s]"
      ]
     },
     "metadata": {},
     "output_type": "display_data"
    },
    {
     "name": "stdout",
     "output_type": "stream",
     "text": [
      "Original Loss= 0.33283987641334534\t Original Accuracy= 0.98\t Adverserial Loss= 0.645402729511261\t Adverserial Accuracy= 0.6466666666666666\n"
     ]
    },
    {
     "data": {
      "application/vnd.jupyter.widget-view+json": {
       "model_id": "109faa0410d14014b3f4755e5016795b",
       "version_major": 2,
       "version_minor": 0
      },
      "text/plain": [
       "  0%|          | 0/6 [00:00<?, ?it/s]"
      ]
     },
     "metadata": {},
     "output_type": "display_data"
    },
    {
     "name": "stdout",
     "output_type": "stream",
     "text": [
      "Original Loss= 0.33283987641334534\t Original Accuracy= 0.98\t Adverserial Loss= 0.7191003561019897\t Adverserial Accuracy= 0.5733333333333334\n"
     ]
    },
    {
     "data": {
      "application/vnd.jupyter.widget-view+json": {
       "model_id": "f1384ca3cea54a298c2873afba390c34",
       "version_major": 2,
       "version_minor": 0
      },
      "text/plain": [
       "  0%|          | 0/6 [00:00<?, ?it/s]"
      ]
     },
     "metadata": {},
     "output_type": "display_data"
    },
    {
     "name": "stdout",
     "output_type": "stream",
     "text": [
      "Original Loss= 0.33283987641334534\t Original Accuracy= 0.98\t Adverserial Loss= 0.7784690260887146\t Adverserial Accuracy= 0.5266666666666666\n"
     ]
    },
    {
     "data": {
      "application/vnd.jupyter.widget-view+json": {
       "model_id": "19038dec1e334fba8054a4b39819a706",
       "version_major": 2,
       "version_minor": 0
      },
      "text/plain": [
       "  0%|          | 0/6 [00:00<?, ?it/s]"
      ]
     },
     "metadata": {},
     "output_type": "display_data"
    },
    {
     "name": "stdout",
     "output_type": "stream",
     "text": [
      "Original Loss= 0.33283987641334534\t Original Accuracy= 0.98\t Adverserial Loss= 0.7949872016906738\t Adverserial Accuracy= 0.5066666666666667\n"
     ]
    },
    {
     "data": {
      "application/vnd.jupyter.widget-view+json": {
       "model_id": "2cd2b73ab4a74d1d9274f988c880b646",
       "version_major": 2,
       "version_minor": 0
      },
      "text/plain": [
       "  0%|          | 0/6 [00:00<?, ?it/s]"
      ]
     },
     "metadata": {},
     "output_type": "display_data"
    },
    {
     "name": "stdout",
     "output_type": "stream",
     "text": [
      "Original Loss= 0.33283987641334534\t Original Accuracy= 0.98\t Adverserial Loss= 0.8092592358589172\t Adverserial Accuracy= 0.49\n"
     ]
    },
    {
     "data": {
      "application/vnd.jupyter.widget-view+json": {
       "model_id": "36f77741521c4e949c68e599e711225e",
       "version_major": 2,
       "version_minor": 0
      },
      "text/plain": [
       "  0%|          | 0/6 [00:00<?, ?it/s]"
      ]
     },
     "metadata": {},
     "output_type": "display_data"
    },
    {
     "name": "stdout",
     "output_type": "stream",
     "text": [
      "Original Loss= 0.33283987641334534\t Original Accuracy= 0.98\t Adverserial Loss= 0.8393617868423462\t Adverserial Accuracy= 0.45666666666666667\n"
     ]
    },
    {
     "data": {
      "application/vnd.jupyter.widget-view+json": {
       "model_id": "75c81e708f1a4cada9928a9d4e77fa79",
       "version_major": 2,
       "version_minor": 0
      },
      "text/plain": [
       "  0%|          | 0/6 [00:00<?, ?it/s]"
      ]
     },
     "metadata": {},
     "output_type": "display_data"
    },
    {
     "name": "stdout",
     "output_type": "stream",
     "text": [
      "Original Loss= 0.33283987641334534\t Original Accuracy= 0.98\t Adverserial Loss= 0.862472653388977\t Adverserial Accuracy= 0.43666666666666665\n"
     ]
    },
    {
     "data": {
      "application/vnd.jupyter.widget-view+json": {
       "model_id": "e8b43f1fa88a46c38680f371b79cdee8",
       "version_major": 2,
       "version_minor": 0
      },
      "text/plain": [
       "  0%|          | 0/10 [00:00<?, ?it/s]"
      ]
     },
     "metadata": {},
     "output_type": "display_data"
    },
    {
     "data": {
      "application/vnd.jupyter.widget-view+json": {
       "model_id": "5f4343b7ff5848adaa78e326bfb7e9a5",
       "version_major": 2,
       "version_minor": 0
      },
      "text/plain": [
       "  0%|          | 0/6 [00:00<?, ?it/s]"
      ]
     },
     "metadata": {},
     "output_type": "display_data"
    },
    {
     "name": "stdout",
     "output_type": "stream",
     "text": [
      "Original Loss= 0.33283987641334534\t Original Accuracy= 0.98\t Adverserial Loss= 0.33283987641334534\t Adverserial Accuracy= 0.98\n"
     ]
    },
    {
     "data": {
      "application/vnd.jupyter.widget-view+json": {
       "model_id": "b0c72f6c3a7140ff9daa79dac96c805c",
       "version_major": 2,
       "version_minor": 0
      },
      "text/plain": [
       "  0%|          | 0/6 [00:00<?, ?it/s]"
      ]
     },
     "metadata": {},
     "output_type": "display_data"
    },
    {
     "name": "stdout",
     "output_type": "stream",
     "text": [
      "Original Loss= 0.33283987641334534\t Original Accuracy= 0.98\t Adverserial Loss= 1.225756287574768\t Adverserial Accuracy= 0.08\n"
     ]
    },
    {
     "data": {
      "application/vnd.jupyter.widget-view+json": {
       "model_id": "cd630162426b4f1cbcc42a158e6023a9",
       "version_major": 2,
       "version_minor": 0
      },
      "text/plain": [
       "  0%|          | 0/6 [00:00<?, ?it/s]"
      ]
     },
     "metadata": {},
     "output_type": "display_data"
    },
    {
     "name": "stdout",
     "output_type": "stream",
     "text": [
      "Original Loss= 0.33283987641334534\t Original Accuracy= 0.98\t Adverserial Loss= 1.282132625579834\t Adverserial Accuracy= 0.028333333333333332\n"
     ]
    },
    {
     "data": {
      "application/vnd.jupyter.widget-view+json": {
       "model_id": "a11e37d6bd4d4e5c8ce5f86abe417e61",
       "version_major": 2,
       "version_minor": 0
      },
      "text/plain": [
       "  0%|          | 0/6 [00:00<?, ?it/s]"
      ]
     },
     "metadata": {},
     "output_type": "display_data"
    },
    {
     "name": "stdout",
     "output_type": "stream",
     "text": [
      "Original Loss= 0.33283987641334534\t Original Accuracy= 0.98\t Adverserial Loss= 1.2814604043960571\t Adverserial Accuracy= 0.03\n"
     ]
    },
    {
     "data": {
      "application/vnd.jupyter.widget-view+json": {
       "model_id": "fa185b49265942dc8306a61f1abbc8fd",
       "version_major": 2,
       "version_minor": 0
      },
      "text/plain": [
       "  0%|          | 0/6 [00:00<?, ?it/s]"
      ]
     },
     "metadata": {},
     "output_type": "display_data"
    },
    {
     "name": "stdout",
     "output_type": "stream",
     "text": [
      "Original Loss= 0.33283987641334534\t Original Accuracy= 0.98\t Adverserial Loss= 1.2771285772323608\t Adverserial Accuracy= 0.03333333333333333\n"
     ]
    },
    {
     "data": {
      "application/vnd.jupyter.widget-view+json": {
       "model_id": "f8f0a3a5945d43bdb12a6e34680eb59c",
       "version_major": 2,
       "version_minor": 0
      },
      "text/plain": [
       "  0%|          | 0/6 [00:00<?, ?it/s]"
      ]
     },
     "metadata": {},
     "output_type": "display_data"
    },
    {
     "name": "stdout",
     "output_type": "stream",
     "text": [
      "Original Loss= 0.33283987641334534\t Original Accuracy= 0.98\t Adverserial Loss= 1.2546805143356323\t Adverserial Accuracy= 0.056666666666666664\n"
     ]
    },
    {
     "data": {
      "application/vnd.jupyter.widget-view+json": {
       "model_id": "4c92167177914a759f2dc87139d97f55",
       "version_major": 2,
       "version_minor": 0
      },
      "text/plain": [
       "  0%|          | 0/6 [00:00<?, ?it/s]"
      ]
     },
     "metadata": {},
     "output_type": "display_data"
    },
    {
     "name": "stdout",
     "output_type": "stream",
     "text": [
      "Original Loss= 0.33283987641334534\t Original Accuracy= 0.98\t Adverserial Loss= 1.2494330406188965\t Adverserial Accuracy= 0.065\n"
     ]
    },
    {
     "data": {
      "application/vnd.jupyter.widget-view+json": {
       "model_id": "0b3bc6891c3844ffb126f7f3bb1ea09a",
       "version_major": 2,
       "version_minor": 0
      },
      "text/plain": [
       "  0%|          | 0/6 [00:00<?, ?it/s]"
      ]
     },
     "metadata": {},
     "output_type": "display_data"
    },
    {
     "name": "stdout",
     "output_type": "stream",
     "text": [
      "Original Loss= 0.33283987641334534\t Original Accuracy= 0.98\t Adverserial Loss= 1.2447587251663208\t Adverserial Accuracy= 0.065\n"
     ]
    },
    {
     "data": {
      "application/vnd.jupyter.widget-view+json": {
       "model_id": "c0acd91849744dfca73b9c56a89dc649",
       "version_major": 2,
       "version_minor": 0
      },
      "text/plain": [
       "  0%|          | 0/6 [00:00<?, ?it/s]"
      ]
     },
     "metadata": {},
     "output_type": "display_data"
    },
    {
     "name": "stdout",
     "output_type": "stream",
     "text": [
      "Original Loss= 0.33283987641334534\t Original Accuracy= 0.98\t Adverserial Loss= 1.2305291891098022\t Adverserial Accuracy= 0.08166666666666667\n"
     ]
    },
    {
     "data": {
      "application/vnd.jupyter.widget-view+json": {
       "model_id": "686e3e2eb1fb423dacddb0a431bceda0",
       "version_major": 2,
       "version_minor": 0
      },
      "text/plain": [
       "  0%|          | 0/6 [00:00<?, ?it/s]"
      ]
     },
     "metadata": {},
     "output_type": "display_data"
    },
    {
     "name": "stdout",
     "output_type": "stream",
     "text": [
      "Original Loss= 0.33283987641334534\t Original Accuracy= 0.98\t Adverserial Loss= 1.220386028289795\t Adverserial Accuracy= 0.085\n"
     ]
    },
    {
     "data": {
      "image/png": "[encoded data removed]",
      "text/plain": [
       "<Figure size 360x360 with 1 Axes>"
      ]
     },
     "metadata": {
      "needs_background": "light"
     },
     "output_type": "display_data"
    }
   ],
   "source": [
    "epsilons = [0,0.1,0.3,0.5,1,2,2.5,3,4,5]\n",
    "accuracies_mask = []\n",
    "accuracies = []\n",
    "accuracies_mal = []\n",
    "examples_mask = []\n",
    "examples = []\n",
    "\n",
    "for eps in tqdm.auto.tqdm(epsilons):\n",
    "    gc.collect()\n",
    "    if compute_mode==\"gpu\":\n",
    "        torch.cuda.empty_cache()\n",
    "    _, acc = model.attack(F.cross_entropy, eps, adv_loader, constraints=True, malicous_only=True)\n",
    "    accuracies_mal.append(acc)\n",
    "\n",
    "for eps in tqdm.auto.tqdm(epsilons):\n",
    "    gc.collect()\n",
    "    if compute_mode==\"gpu\":\n",
    "        torch.cuda.empty_cache()\n",
    "    example, acc = model.attack(F.cross_entropy, eps, adv_loader, constraints=True)\n",
    "    accuracies_mask.append(acc)\n",
    "    examples_mask.append(example)\n",
    "\n",
    "for eps in tqdm.auto.tqdm(epsilons):\n",
    "    gc.collect()\n",
    "    if compute_mode==\"gpu\":\n",
    "        torch.cuda.empty_cache()\n",
    "    example, acc = model.attack(F.cross_entropy, eps, adv_loader)\n",
    "    accuracies.append(acc)\n",
    "    examples.append(example)\n",
    "    \n",
    "plots.plot_eps_acc(epsilons, accuracies_mask, accuracies, accuracies_mal)"
   ]
  },
  {
   "cell_type": "code",
   "execution_count": 10,
   "metadata": {},
   "outputs": [
    {
     "data": {
      "application/vnd.jupyter.widget-view+json": {
       "model_id": "c4029c8049924de384491852d43cd1e6",
       "version_major": 2,
       "version_minor": 0
      },
      "text/plain": [
       "  0%|          | 0/4 [00:00<?, ?it/s]"
      ]
     },
     "metadata": {},
     "output_type": "display_data"
    },
    {
     "data": {
      "application/vnd.jupyter.widget-view+json": {
       "model_id": "f6c0f0efec9a44eba0412ed9bf07ae00",
       "version_major": 2,
       "version_minor": 0
      },
      "text/plain": [
       "  0%|          | 0/4 [00:00<?, ?it/s]"
      ]
     },
     "metadata": {},
     "output_type": "display_data"
    }
   ],
   "source": [
    "norms_mask = evaluation.norms(examples_mask)\n",
    "norms_no_mask = evaluation.norms(examples)"
   ]
  },
  {
   "cell_type": "code",
   "execution_count": 11,
   "metadata": {
    "collapsed": false,
    "jupyter": {
     "outputs_hidden": false
    },
    "pycharm": {
     "name": "#%%\n"
    }
   },
   "outputs": [
    {
     "data": {
      "image/png": "[encoded data removed]",
      "text/plain": [
       "<Figure size 936x720 with 4 Axes>"
      ]
     },
     "metadata": {
      "needs_background": "light"
     },
     "output_type": "display_data"
    },
    {
     "data": {
      "image/png": "[encoded data removed]",
      "text/plain": [
       "<Figure size 936x720 with 4 Axes>"
      ]
     },
     "metadata": {
      "needs_background": "light"
     },
     "output_type": "display_data"
    }
   ],
   "source": [
    "plots.plot_norm(epsilons, epsilons, norms_mask, norms_no_mask, \"epsilon\", [\"constraints\", \"no constraints\"])\n",
    "plots.plot_norm(accuracies_mask, accuracies, norms_mask, norms_no_mask, \"accuracy\", [\"constraints\", \"no constraints\"])"
   ]
  },
  {
   "cell_type": "code",
   "execution_count": 12,
   "metadata": {},
   "outputs": [],
   "source": [
    "eps_index = 9"
   ]
  },
  {
   "cell_type": "code",
   "execution_count": 13,
   "metadata": {},
   "outputs": [
    {
     "data": {
      "text/html": [
       "<div>\n",
       "<style scoped>\n",
       "    .dataframe tbody tr th:only-of-type {\n",
       "        vertical-align: middle;\n",
       "    }\n",
       "\n",
       "    .dataframe tbody tr th {\n",
       "        vertical-align: top;\n",
       "    }\n",
       "\n",
       "    .dataframe thead th {\n",
       "        text-align: right;\n",
       "    }\n",
       "</style>\n",
       "<table border=\"1\" class=\"dataframe\">\n",
       "  <thead>\n",
       "    <tr style=\"text-align: right;\">\n",
       "      <th></th>\n",
       "      <th>Meaning</th>\n",
       "      <th>Field in list</th>\n",
       "      <th>no of samples</th>\n",
       "    </tr>\n",
       "  </thead>\n",
       "  <tbody>\n",
       "    <tr>\n",
       "      <th>0</th>\n",
       "      <td>original benign</td>\n",
       "      <td>benign[0]</td>\n",
       "      <td>292</td>\n",
       "    </tr>\n",
       "    <tr>\n",
       "      <th>1</th>\n",
       "      <td>original benign &amp; predicted benign</td>\n",
       "      <td>benign[1]</td>\n",
       "      <td>288</td>\n",
       "    </tr>\n",
       "    <tr>\n",
       "      <th>2</th>\n",
       "      <td>original benign &amp; predicted benign &amp; attack predicted benign</td>\n",
       "      <td>benign[3]</td>\n",
       "      <td>153</td>\n",
       "    </tr>\n",
       "    <tr>\n",
       "      <th>3</th>\n",
       "      <td>original benign &amp; predicted benign &amp; attack predicted malicious</td>\n",
       "      <td>malicious[3]</td>\n",
       "      <td>135</td>\n",
       "    </tr>\n",
       "    <tr>\n",
       "      <th>4</th>\n",
       "      <td>original benign &amp; predicted malicious</td>\n",
       "      <td>malicious[1]</td>\n",
       "      <td>4</td>\n",
       "    </tr>\n",
       "    <tr>\n",
       "      <th>5</th>\n",
       "      <td>original benign &amp; predicted malicious &amp; attack predicted benign</td>\n",
       "      <td>benign[4]</td>\n",
       "      <td>0</td>\n",
       "    </tr>\n",
       "    <tr>\n",
       "      <th>6</th>\n",
       "      <td>original benign &amp; predicted malicious &amp; attack predicted malicious</td>\n",
       "      <td>malicious[4]</td>\n",
       "      <td>4</td>\n",
       "    </tr>\n",
       "    <tr>\n",
       "      <th>7</th>\n",
       "      <td>original malicious</td>\n",
       "      <td>malicious[0]</td>\n",
       "      <td>308</td>\n",
       "    </tr>\n",
       "    <tr>\n",
       "      <th>8</th>\n",
       "      <td>original malicious &amp; predicted benign</td>\n",
       "      <td>benign[2]</td>\n",
       "      <td>8</td>\n",
       "    </tr>\n",
       "    <tr>\n",
       "      <th>9</th>\n",
       "      <td>original malicious &amp; predicted benign &amp; attack predicted benign</td>\n",
       "      <td>benign[5]</td>\n",
       "      <td>8</td>\n",
       "    </tr>\n",
       "    <tr>\n",
       "      <th>10</th>\n",
       "      <td>original malicious &amp; predicted benign &amp; attack predicted malicious</td>\n",
       "      <td>malicious[5]</td>\n",
       "      <td>0</td>\n",
       "    </tr>\n",
       "    <tr>\n",
       "      <th>11</th>\n",
       "      <td>original malicious &amp; predicted malicious</td>\n",
       "      <td>malicious[2]</td>\n",
       "      <td>300</td>\n",
       "    </tr>\n",
       "    <tr>\n",
       "      <th>12</th>\n",
       "      <td>original malicious &amp; predicted malicious &amp; attack predicted benign</td>\n",
       "      <td>benign[6]</td>\n",
       "      <td>191</td>\n",
       "    </tr>\n",
       "    <tr>\n",
       "      <th>13</th>\n",
       "      <td>original malicious &amp; predicted malicious &amp; attack predicted malicious</td>\n",
       "      <td>malicious[6]</td>\n",
       "      <td>109</td>\n",
       "    </tr>\n",
       "  </tbody>\n",
       "</table>\n",
       "</div>"
      ],
      "text/plain": [
       "                                                                  Meaning  \\\n",
       "0                                                         original benign   \n",
       "1                                      original benign & predicted benign   \n",
       "2            original benign & predicted benign & attack predicted benign   \n",
       "3         original benign & predicted benign & attack predicted malicious   \n",
       "4                                   original benign & predicted malicious   \n",
       "5         original benign & predicted malicious & attack predicted benign   \n",
       "6      original benign & predicted malicious & attack predicted malicious   \n",
       "7                                                      original malicious   \n",
       "8                                   original malicious & predicted benign   \n",
       "9         original malicious & predicted benign & attack predicted benign   \n",
       "10     original malicious & predicted benign & attack predicted malicious   \n",
       "11                               original malicious & predicted malicious   \n",
       "12     original malicious & predicted malicious & attack predicted benign   \n",
       "13  original malicious & predicted malicious & attack predicted malicious   \n",
       "\n",
       "   Field in list  no of samples  \n",
       "0      benign[0]            292  \n",
       "1      benign[1]            288  \n",
       "2      benign[3]            153  \n",
       "3   malicious[3]            135  \n",
       "4   malicious[1]              4  \n",
       "5      benign[4]              0  \n",
       "6   malicious[4]              4  \n",
       "7   malicious[0]            308  \n",
       "8      benign[2]              8  \n",
       "9      benign[5]              8  \n",
       "10  malicious[5]              0  \n",
       "11  malicious[2]            300  \n",
       "12     benign[6]            191  \n",
       "13  malicious[6]            109  "
      ]
     },
     "metadata": {},
     "output_type": "display_data"
    },
    {
     "data": {
      "text/html": [
       "<div>\n",
       "<style scoped>\n",
       "    .dataframe tbody tr th:only-of-type {\n",
       "        vertical-align: middle;\n",
       "    }\n",
       "\n",
       "    .dataframe tbody tr th {\n",
       "        vertical-align: top;\n",
       "    }\n",
       "\n",
       "    .dataframe thead th {\n",
       "        text-align: right;\n",
       "    }\n",
       "</style>\n",
       "<table border=\"1\" class=\"dataframe\">\n",
       "  <thead>\n",
       "    <tr style=\"text-align: right;\">\n",
       "      <th></th>\n",
       "      <th>Proportion of samples which are</th>\n",
       "      <th>among samples which are</th>\n",
       "      <th>percentage</th>\n",
       "    </tr>\n",
       "  </thead>\n",
       "  <tbody>\n",
       "    <tr>\n",
       "      <th>0</th>\n",
       "      <td>predicted benign</td>\n",
       "      <td>original benign</td>\n",
       "      <td>98.63</td>\n",
       "    </tr>\n",
       "    <tr>\n",
       "      <th>1</th>\n",
       "      <td>predicted malicious</td>\n",
       "      <td>original benign</td>\n",
       "      <td>1.37</td>\n",
       "    </tr>\n",
       "    <tr>\n",
       "      <th>2</th>\n",
       "      <td>predicted benign</td>\n",
       "      <td>original malicious</td>\n",
       "      <td>2.60</td>\n",
       "    </tr>\n",
       "    <tr>\n",
       "      <th>3</th>\n",
       "      <td>predicted malicious</td>\n",
       "      <td>original malicious</td>\n",
       "      <td>97.40</td>\n",
       "    </tr>\n",
       "    <tr>\n",
       "      <th>4</th>\n",
       "      <td>attack predicted benign</td>\n",
       "      <td>original benign &amp; predicted benign</td>\n",
       "      <td>53.12</td>\n",
       "    </tr>\n",
       "    <tr>\n",
       "      <th>5</th>\n",
       "      <td>attack predicted malicious</td>\n",
       "      <td>original benign &amp; predicted benign</td>\n",
       "      <td>46.88</td>\n",
       "    </tr>\n",
       "    <tr>\n",
       "      <th>6</th>\n",
       "      <td>attack predicted benign</td>\n",
       "      <td>original benign &amp; predicted malicious</td>\n",
       "      <td>0.00</td>\n",
       "    </tr>\n",
       "    <tr>\n",
       "      <th>7</th>\n",
       "      <td>attack predicted malicious</td>\n",
       "      <td>original benign &amp; predicted malicious</td>\n",
       "      <td>100.00</td>\n",
       "    </tr>\n",
       "    <tr>\n",
       "      <th>8</th>\n",
       "      <td>attack predicted benign</td>\n",
       "      <td>original malicious &amp; predicted benign</td>\n",
       "      <td>100.00</td>\n",
       "    </tr>\n",
       "    <tr>\n",
       "      <th>9</th>\n",
       "      <td>attack predicted malicious</td>\n",
       "      <td>original malicious &amp; predicted benign</td>\n",
       "      <td>0.00</td>\n",
       "    </tr>\n",
       "    <tr>\n",
       "      <th>10</th>\n",
       "      <td>attack predicted benign</td>\n",
       "      <td>original malicious &amp; predicted malicious</td>\n",
       "      <td>63.67</td>\n",
       "    </tr>\n",
       "    <tr>\n",
       "      <th>11</th>\n",
       "      <td>attack predicted malicious</td>\n",
       "      <td>original malicious &amp; predicted malicious</td>\n",
       "      <td>36.33</td>\n",
       "    </tr>\n",
       "  </tbody>\n",
       "</table>\n",
       "</div>"
      ],
      "text/plain": [
       "   Proportion of samples which are                   among samples which are  \\\n",
       "0                 predicted benign                           original benign   \n",
       "1              predicted malicious                           original benign   \n",
       "2                 predicted benign                        original malicious   \n",
       "3              predicted malicious                        original malicious   \n",
       "4          attack predicted benign        original benign & predicted benign   \n",
       "5       attack predicted malicious        original benign & predicted benign   \n",
       "6          attack predicted benign     original benign & predicted malicious   \n",
       "7       attack predicted malicious     original benign & predicted malicious   \n",
       "8          attack predicted benign     original malicious & predicted benign   \n",
       "9       attack predicted malicious     original malicious & predicted benign   \n",
       "10         attack predicted benign  original malicious & predicted malicious   \n",
       "11      attack predicted malicious  original malicious & predicted malicious   \n",
       "\n",
       "    percentage  \n",
       "0        98.63  \n",
       "1         1.37  \n",
       "2         2.60  \n",
       "3        97.40  \n",
       "4        53.12  \n",
       "5        46.88  \n",
       "6         0.00  \n",
       "7       100.00  \n",
       "8       100.00  \n",
       "9         0.00  \n",
       "10       63.67  \n",
       "11       36.33  "
      ]
     },
     "metadata": {},
     "output_type": "display_data"
    }
   ],
   "source": [
    "benign, malicious, percentages = evaluation.calculate_shares(examples_mask[eps_index])\n",
    "df_absolute, df_percentage = evaluation.create_dfs_swaps(benign, malicious, percentages)\n",
    "display(df_absolute)\n",
    "display(df_percentage)"
   ]
  },
  {
   "cell_type": "code",
   "execution_count": 21,
   "metadata": {
    "pycharm": {
     "name": "#%%\n"
    }
   },
   "outputs": [
    {
     "name": "stdout",
     "output_type": "stream",
     "text": [
      "0.43666666666666665\n",
      "extracting hashes and rescaling\n",
      "loading raw files\n",
      "perturb raw files\n"
     ]
    }
   ],
   "source": [
    "print(accuracies_mask[eps_index])\n",
    "json_features = adverserial_gen.adv_examples_to_json(examples_mask[eps_index],\"ember2018\",model.scaler)\n",
    "adverserial_gen.save_adv_raw('adv_samples/',json_features)\n",
    "\n"
   ]
  }
 ],
 "metadata": {
  "kernelspec": {
   "display_name": "Python (final_mlcysec)",
   "language": "python",
   "name": "final_mlcysec"
  },
  "language_info": {
   "codemirror_mode": {
    "name": "ipython",
    "version": 3
   },
   "file_extension": ".py",
   "mimetype": "text/x-python",
   "name": "python",
   "nbconvert_exporter": "python",
   "pygments_lexer": "ipython3",
   "version": "3.8.5"
  }
 },
 "nbformat": 4,
 "nbformat_minor": 4
}